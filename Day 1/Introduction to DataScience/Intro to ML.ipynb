{
 "cells": [
  {
   "cell_type": "markdown",
   "metadata": {},
   "source": [
    "#  Data Science - Machine Learning"
   ]
  },
  {
   "cell_type": "markdown",
   "metadata": {},
   "source": [
    "## What is Data Science ?:\n",
    "Data science is the study of data. It involves developing methods of recording, storing, and analyzing data to effectively extract useful information. The goal of data science is to gain insights and knowledge from any type of data — both structured and unstructured\n"
   ]
  },
  {
   "cell_type": "markdown",
   "metadata": {},
   "source": [
    "Yet another way to put this definition into words is that data science equates to uncovering insights, patterns and trends that are *hidden* behind the data i.e using data to understand things. Among the “things” we would like to understand better we can list:\n",
    "-\tYour customers\n",
    "-\tYour business processes\n",
    "-\tHow your product is consumed / perceived / liked by your customers.\n",
    "\n",
    "\n",
    "This brings us to a further wording of the same concept, that I especially like: data science means transforming data into knowledge, that can guide decision making.\n",
    "\n",
    "The key insight here is that **data in itself has practically zero value when it comes to making decisions**. Data is no more than a, sometimes huge, collection of recorded facts about some entities, such as your customers, your sales transactions or your web interactions. Although it might cost you and your company a lot of money, time and effort, to manage this repository of facts, said cost does not translate automatically into value.\n",
    "\n"
   ]
  },
  {
   "cell_type": "markdown",
   "metadata": {},
   "source": [
    "### Data Science as Umbrella term: "
   ]
  },
  {
   "cell_type": "markdown",
   "metadata": {},
   "source": [
    "- Artificial intelligence\n",
    "- Machine learning\n",
    "- Statistics\n",
    "- ETLs and data cleanup **:** ETL refers to extraction, transformation and load or the stages previous to data exploration, formulation of hypothesis and construction of models.\n",
    "- Data Visualisation\n",
    "- Algorithm and infrastructure\t\n",
    "- Efficient data storage and retrieval architectures\n",
    "- Business knowledge / understanding of the application domain\n"
   ]
  },
  {
   "cell_type": "markdown",
   "metadata": {},
   "source": [
    "### Why is data science “a thing” nowadays?"
   ]
  },
  {
   "cell_type": "markdown",
   "metadata": {},
   "source": [
    "1.\tThe advent of the Internet economy and the explosion in mobile apps has caused a deluge of data waiting to be turned into value\n",
    "2.\tThe sharp decrease in costs associated with data storage and processing. According to this source and this other source, the cost of a hard-drive per GB dropped from around 100 USD in 1997 to 1 USD in 2005 and then again to around 0.03 USD in 2017. This has but fueled trends such as “Big Data” and “distributed computing”.\n",
    "3.\tThe development of a wealth of innovative ML and DL algorithms\n",
    "4.\tOn the hardware side, the availability of GPUs that are used to run the heavy computations required by deep learning algorithms\n"
   ]
  },
  {
   "cell_type": "markdown",
   "metadata": {},
   "source": [
    "![img](images/oneminofinternet.jpg)"
   ]
  },
  {
   "cell_type": "markdown",
   "metadata": {},
   "source": [
    "## Applications of Data Science"
   ]
  },
  {
   "cell_type": "markdown",
   "metadata": {},
   "source": [
    "![img](images/Data-Science-Applications-01.jpg)"
   ]
  },
  {
   "cell_type": "markdown",
   "metadata": {},
   "source": [
    "## What it takes to be a Data Scientist ?"
   ]
  },
  {
   "cell_type": "markdown",
   "metadata": {},
   "source": [
    "![img](images/venn_diag.png)"
   ]
  },
  {
   "cell_type": "markdown",
   "metadata": {},
   "source": [
    "### Opportunities in Data Science\n",
    "- Business Intelligence Developer\n",
    "- Data Architect\n",
    "- Applications Architect\n",
    "- Infrastructure Architect\n",
    "- Enterprise Architect\n",
    "- Data Analyst\n",
    "- Data Scientist\n",
    "- Data Engineer\n",
    "- Machine Learning Scientist\n",
    "- Machine Learning Engineer\n",
    "- Statistician"
   ]
  },
  {
   "cell_type": "markdown",
   "metadata": {},
   "source": [
    "## What is Machine Learning:\n",
    "- Machine Learning is the science (and art) of programming computers so they can\n",
    "learn from data.\n",
    "\n",
    "\n",
    "- Here is a slightly more general definition:\n",
    "[Machine Learning is the] field of study that gives computers the ability to learn\n",
    "without being explicitly programmed.\n",
    "—Arthur Samuel, 1959\n",
    "\n",
    "- And a more engineering-oriented one:\n",
    "A computer program is said to learn from experience E with respect to some task T\n",
    "and some performance measure P, if its performance on T, as measured by P, improves\n",
    "with experience E.\n",
    "—Tom Mitchell, 1997"
   ]
  },
  {
   "cell_type": "markdown",
   "metadata": {},
   "source": [
    "### How machines learn from Experience\n",
    "There are three common ways by which machines learn from\n",
    "experience (data):\n",
    "1. Supervised Learning\n",
    "2. Unsupervised Learning\n",
    "3. Reinforcement Learning"
   ]
  },
  {
   "cell_type": "markdown",
   "metadata": {},
   "source": [
    "-  **Supervised Learning**  \n",
    "Supervised learning algorithms experience dataset containing\n",
    "many features as well as label (or target) associated with each\n",
    "example.  In supervised learning, the training data you feed to the algorithm includes the desired\n",
    "solutions, called labels"
   ]
  },
  {
   "cell_type": "markdown",
   "metadata": {},
   "source": [
    "![img](images/image2.png)"
   ]
  },
  {
   "cell_type": "markdown",
   "metadata": {},
   "source": [
    "Examples of learning problems/tasks.\n",
    "- Classification - Assign a category to each item.eg: cat or dog prediction\n",
    "- Regression - Predict a value for each item. eg: customer salary prediction"
   ]
  },
  {
   "cell_type": "markdown",
   "metadata": {},
   "source": [
    "Here are some of the most important supervised learning algorithms \n",
    "- k-Nearest Neighbors\n",
    "- Linear Regression\n",
    "- Logistic Regression\n",
    "- Support Vector Machines (SVMs)\n",
    "- Decision Trees and Random Forests\n",
    "- Neural networks2"
   ]
  },
  {
   "cell_type": "markdown",
   "metadata": {},
   "source": [
    "![img](images/image6.png)"
   ]
  },
  {
   "cell_type": "markdown",
   "metadata": {},
   "source": [
    "![img](images/image7.png)"
   ]
  },
  {
   "cell_type": "markdown",
   "metadata": {},
   "source": [
    "![img](images/image9.png)"
   ]
  },
  {
   "cell_type": "markdown",
   "metadata": {},
   "source": [
    "![img](images/image10.png)"
   ]
  },
  {
   "cell_type": "markdown",
   "metadata": {},
   "source": [
    "### Unsupervised learning"
   ]
  },
  {
   "cell_type": "markdown",
   "metadata": {},
   "source": [
    "In contrast in Unsupervised Learning it is unkown what the computer needs to learn. That means that you only have input data without corresponding labels. In that case the Machine Learning algorithm needs to figure out how to interpret and how to structure the data by itself. There are two main tasks for Unsupervised Learning:\n",
    "\n",
    "- Unsupervised Learning For Clustering: Clustering means that the algorithm tries to group together the input data in categories. Example: red, blue, green etc. The category is then the label which is determined for the provided input data.\n",
    "- Unsupervised Learning For Association: Association means that the algorithm tries to determine rules which are describing large portions of the data. E.g. poeple that smoke tend to get cancer."
   ]
  },
  {
   "cell_type": "markdown",
   "metadata": {},
   "source": [
    "![img](images/image3.png)"
   ]
  },
  {
   "cell_type": "markdown",
   "metadata": {},
   "source": [
    "![img](images/image4.png)"
   ]
  },
  {
   "cell_type": "markdown",
   "metadata": {},
   "source": [
    "### Reinforcement Learning\n",
    "Reinforcement Learning is a very different beast. The learning system, called an agent\n",
    "in this context, can observe the environment, select and perform actions, and get\n",
    "rewards in return (or penalties in the form of negative rewards, as in Figure 1-12). It\n",
    "must then learn by itself what is the best strategy, called a policy, to get the most\n",
    "reward over time. A policy defines what action the agent should choose when it is in a\n",
    "given situation."
   ]
  },
  {
   "cell_type": "markdown",
   "metadata": {},
   "source": [
    "![img](images/image5.png)"
   ]
  },
  {
   "cell_type": "code",
   "execution_count": 10,
   "metadata": {},
   "outputs": [],
   "source": [
    "#from Ipython.display import HTML, display\n",
    "#display(HTML(\"<table><tr><td><img src= 'imgage1'></td><td><img src = 'image2'></td></tr><table>\"))"
   ]
  },
  {
   "cell_type": "code",
   "execution_count": null,
   "metadata": {},
   "outputs": [],
   "source": []
  },
  {
   "cell_type": "code",
   "execution_count": null,
   "metadata": {},
   "outputs": [],
   "source": []
  },
  {
   "cell_type": "code",
   "execution_count": null,
   "metadata": {},
   "outputs": [],
   "source": []
  },
  {
   "cell_type": "code",
   "execution_count": null,
   "metadata": {},
   "outputs": [],
   "source": []
  },
  {
   "cell_type": "code",
   "execution_count": null,
   "metadata": {},
   "outputs": [],
   "source": []
  },
  {
   "cell_type": "code",
   "execution_count": null,
   "metadata": {},
   "outputs": [],
   "source": []
  },
  {
   "cell_type": "code",
   "execution_count": null,
   "metadata": {},
   "outputs": [],
   "source": []
  },
  {
   "cell_type": "code",
   "execution_count": null,
   "metadata": {},
   "outputs": [],
   "source": []
  },
  {
   "cell_type": "code",
   "execution_count": null,
   "metadata": {},
   "outputs": [],
   "source": []
  },
  {
   "cell_type": "code",
   "execution_count": null,
   "metadata": {},
   "outputs": [],
   "source": []
  },
  {
   "cell_type": "code",
   "execution_count": null,
   "metadata": {},
   "outputs": [],
   "source": []
  },
  {
   "cell_type": "code",
   "execution_count": null,
   "metadata": {},
   "outputs": [],
   "source": []
  },
  {
   "cell_type": "code",
   "execution_count": null,
   "metadata": {},
   "outputs": [],
   "source": []
  },
  {
   "cell_type": "code",
   "execution_count": null,
   "metadata": {},
   "outputs": [],
   "source": []
  },
  {
   "cell_type": "markdown",
   "metadata": {},
   "source": [
    "## Evaluating the performance of a model\n",
    "\n",
    "Associated with every ML algorithm is a loss function (a measure of the\n",
    "un-correctness of the output given an input) also known as performance\n",
    "metrics.\n",
    "The aim of the algorithm is to minimize as much as possible this loss\n",
    "(iteratively!) using the training data.\n",
    "The performance of the algorithm can’t be measured with the same training\n",
    "data it was fitted with!"
   ]
  },
  {
   "cell_type": "markdown",
   "metadata": {},
   "source": [
    "![img](images/image11.png)"
   ]
  },
  {
   "cell_type": "markdown",
   "metadata": {},
   "source": [
    "## Main Challenges of Machine Learning"
   ]
  },
  {
   "cell_type": "markdown",
   "metadata": {},
   "source": [
    "- Insufficient Quantity of Training Data\n",
    "- Nonrepresentative Training Data\n",
    "- Poor-Quality Data"
   ]
  },
  {
   "cell_type": "markdown",
   "metadata": {},
   "source": [
    "If some instances are clearly outliers, it may help to simply discard them or try to\n",
    "fix the errors manually.<br>\n",
    "If some instances are missing a few features (e.g., 5% of your customers did not\n",
    "specify their age), you must decide whether you want to ignore this attribute altogether,\n",
    "ignore these instances, fill in the missing values (e.g., with the median\n",
    "age), or train one model with the feature and one model without it, and so on."
   ]
  },
  {
   "cell_type": "markdown",
   "metadata": {},
   "source": [
    "- Overfitting and Underfitting"
   ]
  },
  {
   "cell_type": "markdown",
   "metadata": {},
   "source": [
    "![img](images/image12.png)"
   ]
  },
  {
   "cell_type": "markdown",
   "metadata": {},
   "source": [
    "Overfitting happens when the model is too complex relative to the\n",
    "amount and noisiness of the training data. The possible solutions\n",
    "are:<br>\n",
    "• To simplify the model by selecting one with fewer parameters\n",
    "(e.g., a linear model rather than a high-degree polynomial\n",
    "model), by reducing the number of attributes in the training\n",
    "data or by constraining the model<br>\n",
    "• To gather more training data<br>\n",
    "• To reduce the noise in the training data (e.g., fix data errors\n",
    "and remove outliers)"
   ]
  },
  {
   "cell_type": "markdown",
   "metadata": {},
   "source": [
    "Underfitting the Training Data\n",
    "As you might guess, underfitting is the opposite of overfitting: it occurs when your\n",
    "model is too simple to learn the underlying structure of the data. For example, a linear\n",
    "model of life satisfaction is prone to underfit; reality is just more complex than\n",
    "the model, so its predictions are bound to be inaccurate, even on the training examples.\n",
    "The main options to fix this problem are:<br>\n",
    "• Selecting a more powerful model, with more parameters<br>\n",
    "• Feeding better features to the learning algorithm (feature engineering)<br>\n",
    "• Reducing the constraints on the model (e.g., reducing the regularization hyperparameter)"
   ]
  },
  {
   "cell_type": "code",
   "execution_count": null,
   "metadata": {},
   "outputs": [],
   "source": []
  }
 ],
 "metadata": {
  "kernelspec": {
   "display_name": "Python 3",
   "language": "python",
   "name": "python3"
  },
  "language_info": {
   "codemirror_mode": {
    "name": "ipython",
    "version": 3
   },
   "file_extension": ".py",
   "mimetype": "text/x-python",
   "name": "python",
   "nbconvert_exporter": "python",
   "pygments_lexer": "ipython3",
   "version": "3.6.8"
  }
 },
 "nbformat": 4,
 "nbformat_minor": 2
}
